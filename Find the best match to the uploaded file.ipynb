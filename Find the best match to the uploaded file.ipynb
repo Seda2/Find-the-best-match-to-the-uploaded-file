{
 "cells": [
  {
   "cell_type": "markdown",
   "id": "4498c80e",
   "metadata": {},
   "source": [
    "# The code connects to a database, receives a new file, compares the new file with all the files in the database, identifies the document with the highest similarity and returns it.\n",
    "\n",
    "## The codue uses sqlite3, TfidfVectorizer and cosine_similarity"
   ]
  },
  {
   "cell_type": "code",
   "execution_count": 1,
   "id": "bcb0e75b",
   "metadata": {},
   "outputs": [],
   "source": [
    "# Install necessary libraries\n",
    "#!pip install python-docx scikit-learn\n",
    "\n",
    "# Import required libraries\n",
    "import sqlite3\n",
    "from docx import Document\n",
    "from sklearn.feature_extraction.text import TfidfVectorizer\n",
    "from sklearn.metrics.pairwise import cosine_similarity\n",
    "from IPython.display import FileLink, display\n",
    "from pathlib import Path\n",
    "import os\n",
    "\n"
   ]
  },
  {
   "cell_type": "code",
   "execution_count": 51,
   "id": "e57f9fd3",
   "metadata": {},
   "outputs": [],
   "source": [
    "conn = sqlite3.connect('/Users/sedastepanyan/new_documents.db')\n",
    "conn.text_factory = str  # Set text_factory to handle UTF-8 encoding\n",
    "cursor = conn.cursor()\n"
   ]
  },
  {
   "cell_type": "code",
   "execution_count": 52,
   "id": "f130bcfa",
   "metadata": {},
   "outputs": [
    {
     "data": {
      "text/plain": [
       "<sqlite3.Cursor at 0x122d315c0>"
      ]
     },
     "execution_count": 52,
     "metadata": {},
     "output_type": "execute_result"
    }
   ],
   "source": [
    "cursor.execute('''CREATE TABLE IF NOT EXISTS documents\n",
    "                  (id INTEGER PRIMARY KEY AUTOINCREMENT,\n",
    "                   name TEXT,\n",
    "                   content TEXT)''')\n"
   ]
  },
  {
   "cell_type": "code",
   "execution_count": 53,
   "id": "67fc1ad3",
   "metadata": {},
   "outputs": [],
   "source": [
    "def add_document(name, content):\n",
    "    try:\n",
    "        cursor.execute('INSERT INTO documents (name, content) VALUES (?, ?)', (name, content))\n",
    "        conn.commit()\n",
    "        print(\"Document added successfully.\")\n",
    "    except Exception as e:\n",
    "        print(f\"Error adding document: {e}\")"
   ]
  },
  {
   "cell_type": "code",
   "execution_count": 54,
   "id": "5df47b25",
   "metadata": {},
   "outputs": [],
   "source": [
    "def get_all_documents():\n",
    "    cursor.execute('SELECT id, name, content FROM documents')\n",
    "    return cursor.fetchall()"
   ]
  },
  {
   "cell_type": "code",
   "execution_count": 55,
   "id": "0fa3c074",
   "metadata": {},
   "outputs": [],
   "source": [
    "def compare_documents(new_content):\n",
    "    # Fetch existing documents from the database\n",
    "    existing_documents = get_all_documents()\n",
    "\n",
    "    if not existing_documents:\n",
    "        print(\"No existing documents in the database.\")\n",
    "        return None\n",
    "\n",
    "    # Compute TF-IDF vectors for documents\n",
    "    vectorizer = TfidfVectorizer()\n",
    "    vectors = vectorizer.fit_transform([doc[2] for doc in existing_documents])\n",
    "\n",
    "    # Calculate cosine similarity between the new document and existing documents\n",
    "    similarity_scores = cosine_similarity(vectorizer.transform([new_content]), vectors)\n",
    "\n",
    "    # Identify the document with the highest similarity\n",
    "    best_match_index = similarity_scores.argmax()\n",
    "    best_match_id = existing_documents[best_match_index][0]\n",
    "    best_match_name = existing_documents[best_match_index][1]\n",
    "\n",
    "    return best_match_id, best_match_name\n",
    "\n"
   ]
  },
  {
   "cell_type": "code",
   "execution_count": 61,
   "id": "54b14981",
   "metadata": {},
   "outputs": [
    {
     "name": "stdout",
     "output_type": "stream",
     "text": [
      "The best match for the new document is: Document ID 3, Name: DISQO - Walmart Draft 20231114.docx\n",
      "Document added successfully.\n"
     ]
    }
   ],
   "source": [
    "# Example usage: Upload a new document\n",
    "new_document_name = \"copy.docx\"\n",
    "new_document_path = \"/Users/sedastepanyan/Downloads/attachments/copy.docx\"\n",
    "\n",
    "# Extract text content from the new document\n",
    "new_doc = Document(new_document_path)\n",
    "new_content = \" \".join([paragraph.text for paragraph in new_doc.paragraphs])\n",
    "\n",
    "# Compare the new document with existing documents\n",
    "best_match_info = compare_documents(new_content)\n",
    "\n",
    "if best_match_info:\n",
    "    best_match_id, best_match_name = best_match_info\n",
    "    print(f\"The best match for the new document is: Document ID {best_match_id}, Name: {best_match_name}\")\n",
    "\n",
    "# Add the new document to the database\n",
    "add_document(new_document_name, new_content)"
   ]
  },
  {
   "cell_type": "code",
   "execution_count": null,
   "id": "2b04817c",
   "metadata": {},
   "outputs": [],
   "source": []
  },
  {
   "cell_type": "code",
   "execution_count": null,
   "id": "99689733",
   "metadata": {},
   "outputs": [],
   "source": [
    "# Specify the folder containing all Word documents\n",
    "folder_path = \"/path/to/your/word/documents\"\n",
    "\n",
    "# Iterate through each file in the folder\n",
    "for filename in os.listdir(folder_path):\n",
    "    if filename.endswith(\".docx\"):\n",
    "        # Construct the full path to the Word document\n",
    "        document_path = os.path.join(folder_path, filename)\n",
    "\n",
    "        # Extract text content from the Word document\n",
    "        new_doc = Document(document_path)\n",
    "        new_content = \" \".join([paragraph.text for paragraph in new_doc.paragraphs])\n",
    "\n",
    "        # Add the document to the database\n",
    "        add_document(filename, new_content)"
   ]
  },
  {
   "cell_type": "code",
   "execution_count": null,
   "id": "db75ff63",
   "metadata": {},
   "outputs": [],
   "source": [
    "# For testing purposes, you can manually set the path to a Word document and run the upload_and_add_document function.\n",
    "# Replace './path/to/uploaded/document.docx' with the actual path to your uploaded Word document.\n",
    "\n",
    "# Example:\n",
    "# upload_and_add_document('./path/to/your/uploaded/document.docx')\n"
   ]
  }
 ],
 "metadata": {
  "kernelspec": {
   "display_name": "Python 3 (ipykernel)",
   "language": "python",
   "name": "python3"
  },
  "language_info": {
   "codemirror_mode": {
    "name": "ipython",
    "version": 3
   },
   "file_extension": ".py",
   "mimetype": "text/x-python",
   "name": "python",
   "nbconvert_exporter": "python",
   "pygments_lexer": "ipython3",
   "version": "3.11.5"
  }
 },
 "nbformat": 4,
 "nbformat_minor": 5
}
